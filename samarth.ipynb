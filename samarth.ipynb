{
  "cells": [
    {
      "cell_type": "markdown",
      "metadata": {
        "id": "view-in-github",
        "colab_type": "text"
      },
      "source": [
        "<a href=\"https://colab.research.google.com/github/SAMMY-4870/Deep_Learning/blob/main/samarth.ipynb\" target=\"_parent\"><img src=\"https://colab.research.google.com/assets/colab-badge.svg\" alt=\"Open In Colab\"/></a>"
      ]
    },
    {
      "cell_type": "code",
      "execution_count": null,
      "id": "6b028e6d-89aa-43f6-9d08-d5da6d4ed48f",
      "metadata": {
        "id": "6b028e6d-89aa-43f6-9d08-d5da6d4ed48f"
      },
      "outputs": [],
      "source": [
        "import numpy as np\n",
        "\n"
      ]
    },
    {
      "cell_type": "code",
      "execution_count": null,
      "id": "4485467c-9d94-4eac-9d17-70c8eabec917",
      "metadata": {
        "id": "4485467c-9d94-4eac-9d17-70c8eabec917",
        "outputId": "2bf6e9e4-a3ff-46d4-e3d0-3084ffdfe38c"
      },
      "outputs": [
        {
          "name": "stdout",
          "output_type": "stream",
          "text": [
            "Vector: [1 2 3 4 5]\n"
          ]
        }
      ],
      "source": [
        "# Row vector\n",
        "vector = np.array([1, 2, 3, 4, 5])\n",
        "print(\"Vector:\", vector)\n"
      ]
    },
    {
      "cell_type": "code",
      "execution_count": null,
      "id": "a173e318-0821-41c4-b041-654c470537e5",
      "metadata": {
        "id": "a173e318-0821-41c4-b041-654c470537e5",
        "outputId": "d0ad3d49-dd41-49a9-b95f-3d673c6e55e8"
      },
      "outputs": [
        {
          "name": "stdout",
          "output_type": "stream",
          "text": [
            "Original vector: [ 2 -3  6]\n",
            "Magnitude: 7.0\n",
            "Unit vector: [ 0.28571429 -0.42857143  0.85714286]\n"
          ]
        }
      ],
      "source": [
        "# Q2 Find unit vector choice\n",
        "import numpy as np\n",
        "\n",
        "\n",
        "v = np.array([2, -3, 6])\n",
        "\n",
        "# Step 3: Calculate the magnitude (length) of the vector\n",
        "magnitude = np.linalg.norm(v)\n",
        "\n",
        "# Step 4: Calculate the unit vector\n",
        "unit_vector = v / magnitude\n",
        "\n",
        "# Step 5: Print everything\n",
        "print(\"Original vector:\", v)\n",
        "print(\"Magnitude:\", magnitude)\n",
        "print(\"Unit vector:\", unit_vector)\n"
      ]
    },
    {
      "cell_type": "code",
      "execution_count": null,
      "id": "e5805e8c-b17f-4b34-89b0-bb8cac8ae5ff",
      "metadata": {
        "id": "e5805e8c-b17f-4b34-89b0-bb8cac8ae5ff",
        "outputId": "b758c873-b6e3-4abd-d78d-eafacbc66557"
      },
      "outputs": [
        {
          "name": "stdout",
          "output_type": "stream",
          "text": [
            "Vector a: [1 2 3]\n",
            "Vector b: [4 5 6]\n",
            "Dot Product: 32\n"
          ]
        }
      ],
      "source": [
        "# Q3 Find the dot product of 2 vector\n",
        "\n",
        "\n",
        "# Define two vectors of the same length\n",
        "a = np.array([1, 2, 3])\n",
        "b = np.array([4, 5, 6])\n",
        "\n",
        "# Calculate the dot product\n",
        "dot_product = np.dot(a, b)\n",
        "\n",
        "# Print the result\n",
        "print(\"Vector a:\", a)\n",
        "print(\"Vector b:\", b)\n",
        "print(\"Dot Product:\", dot_product)\n"
      ]
    },
    {
      "cell_type": "code",
      "execution_count": null,
      "id": "fea9c02c-6e35-43ba-b183-b85de0193439",
      "metadata": {
        "id": "fea9c02c-6e35-43ba-b183-b85de0193439",
        "outputId": "1ffee54b-0660-40e9-fb9b-c25dd71d37c3"
      },
      "outputs": [
        {
          "name": "stdout",
          "output_type": "stream",
          "text": [
            "Matrix A:\n",
            " [[1 2 3]\n",
            " [4 5 6]\n",
            " [7 8 9]]\n",
            "Matrix B:\n",
            " [[9 8 7]\n",
            " [6 5 4]\n",
            " [3 2 1]]\n",
            "A × B =\n",
            " [[ 30  24  18]\n",
            " [ 84  69  54]\n",
            " [138 114  90]]\n"
          ]
        }
      ],
      "source": [
        "#2 matrix multiplication 3*3 Matrix\n",
        "A = np.array([[1, 2, 3],\n",
        "              [4, 5, 6],\n",
        "              [7, 8, 9]])\n",
        "\n",
        "B = np.array([[9, 8, 7],\n",
        "              [6, 5, 4],\n",
        "              [3, 2, 1]])\n",
        "\n",
        "# Step 2: Matrix multiplication\n",
        "C = np.dot(A, B)\n",
        "\n",
        "# Step 3: Print the result\n",
        "print(\"Matrix A:\\n\", A)\n",
        "print(\"Matrix B:\\n\", B)\n",
        "print(\"A × B =\\n\", C)\n"
      ]
    },
    {
      "cell_type": "code",
      "execution_count": null,
      "id": "2afb2fc7-ae4d-49af-93f5-2de6685e20a0",
      "metadata": {
        "id": "2afb2fc7-ae4d-49af-93f5-2de6685e20a0",
        "outputId": "7064ddcb-8484-4b7f-e729-ba5e6d1d1b28"
      },
      "outputs": [
        {
          "name": "stdout",
          "output_type": "stream",
          "text": [
            "Linear Output (z): 2\n",
            "ReLU Output: 2\n"
          ]
        }
      ],
      "source": [
        "#Q5 Implement a single neural system with reulu  OUTPUT MAX(0,2)\n",
        "\n",
        "x = np.array([1, 1])\n",
        "w = np.array([1, 1])\n",
        "b = 0\n",
        "\n",
        "z = np.dot(w, x) + b\n",
        "relu_output = max(0, z)\n",
        "\n",
        "print(\"Linear Output (z):\", z)\n",
        "print(\"ReLU Output:\", relu_output)\n"
      ]
    },
    {
      "cell_type": "code",
      "execution_count": null,
      "id": "497f2aa6-375a-472c-a440-f9192afaf5aa",
      "metadata": {
        "id": "497f2aa6-375a-472c-a440-f9192afaf5aa"
      },
      "outputs": [],
      "source": []
    }
  ],
  "metadata": {
    "kernelspec": {
      "display_name": "Python [conda env:base] *",
      "language": "python",
      "name": "conda-base-py"
    },
    "language_info": {
      "codemirror_mode": {
        "name": "ipython",
        "version": 3
      },
      "file_extension": ".py",
      "mimetype": "text/x-python",
      "name": "python",
      "nbconvert_exporter": "python",
      "pygments_lexer": "ipython3",
      "version": "3.12.7"
    },
    "colab": {
      "provenance": [],
      "include_colab_link": true
    }
  },
  "nbformat": 4,
  "nbformat_minor": 5
}